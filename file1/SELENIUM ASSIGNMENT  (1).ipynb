{
 "cells": [
  {
   "cell_type": "code",
   "execution_count": 1,
   "id": "f9117efb",
   "metadata": {},
   "outputs": [
    {
     "name": "stdout",
     "output_type": "stream",
     "text": [
      "Requirement already satisfied: selenium in c:\\users\\www\\anaconda3\\lib\\site-packages (4.15.2)\n",
      "Requirement already satisfied: urllib3[socks]<3,>=1.26 in c:\\users\\www\\anaconda3\\lib\\site-packages (from selenium) (1.26.16)\n",
      "Requirement already satisfied: trio~=0.17 in c:\\users\\www\\anaconda3\\lib\\site-packages (from selenium) (0.23.1)\n",
      "Requirement already satisfied: trio-websocket~=0.9 in c:\\users\\www\\anaconda3\\lib\\site-packages (from selenium) (0.11.1)\n",
      "Requirement already satisfied: certifi>=2021.10.8 in c:\\users\\www\\anaconda3\\lib\\site-packages (from selenium) (2023.7.22)\n",
      "Requirement already satisfied: attrs>=20.1.0 in c:\\users\\www\\anaconda3\\lib\\site-packages (from trio~=0.17->selenium) (22.1.0)\n",
      "Requirement already satisfied: sortedcontainers in c:\\users\\www\\anaconda3\\lib\\site-packages (from trio~=0.17->selenium) (2.4.0)\n",
      "Requirement already satisfied: idna in c:\\users\\www\\anaconda3\\lib\\site-packages (from trio~=0.17->selenium) (3.4)\n",
      "Requirement already satisfied: outcome in c:\\users\\www\\anaconda3\\lib\\site-packages (from trio~=0.17->selenium) (1.3.0.post0)\n",
      "Requirement already satisfied: sniffio>=1.3.0 in c:\\users\\www\\anaconda3\\lib\\site-packages (from trio~=0.17->selenium) (1.3.0)\n",
      "Requirement already satisfied: cffi>=1.14 in c:\\users\\www\\anaconda3\\lib\\site-packages (from trio~=0.17->selenium) (1.15.1)\n",
      "Requirement already satisfied: wsproto>=0.14 in c:\\users\\www\\anaconda3\\lib\\site-packages (from trio-websocket~=0.9->selenium) (1.2.0)\n",
      "Requirement already satisfied: PySocks!=1.5.7,<2.0,>=1.5.6 in c:\\users\\www\\anaconda3\\lib\\site-packages (from urllib3[socks]<3,>=1.26->selenium) (1.7.1)\n",
      "Requirement already satisfied: pycparser in c:\\users\\www\\anaconda3\\lib\\site-packages (from cffi>=1.14->trio~=0.17->selenium) (2.21)\n",
      "Requirement already satisfied: h11<1,>=0.9.0 in c:\\users\\www\\anaconda3\\lib\\site-packages (from wsproto>=0.14->trio-websocket~=0.9->selenium) (0.14.0)\n"
     ]
    }
   ],
   "source": [
    "!pip install selenium"
   ]
  },
  {
   "cell_type": "code",
   "execution_count": 2,
   "id": "10026f7d",
   "metadata": {},
   "outputs": [],
   "source": [
    "import selenium \n",
    "import pandas as pd \n",
    "from selenium import webdriver \n",
    "import warnings\n",
    "warnings.filterwarnings('ignore')\n",
    "from selenium.webdriver.common.by import By\n",
    "import time \n"
   ]
  },
  {
   "cell_type": "code",
   "execution_count": 6,
   "id": "03b0d46a",
   "metadata": {},
   "outputs": [],
   "source": [
    "driver = webdriver.Chrome()\n"
   ]
  },
  {
   "cell_type": "code",
   "execution_count": null,
   "id": "d6210512",
   "metadata": {},
   "outputs": [],
   "source": [
    "driver.get('https://www.shine.com/')"
   ]
  },
  {
   "cell_type": "code",
   "execution_count": null,
   "id": "b583c7d4",
   "metadata": {},
   "outputs": [],
   "source": [
    "job_title = driver.find_element(By.XPATH,'/html/body/div/div[4]/div/div[2]/div[2]/div/form/div/div[1]/ul/li[1]/div/input')\n",
    "job_title.send_keys('Data Analyst')"
   ]
  },
  {
   "cell_type": "code",
   "execution_count": null,
   "id": "ed4bbb92",
   "metadata": {},
   "outputs": [],
   "source": [
    "job_location = driver.find_element(By.XPATH,'/html/body/div/div[4]/div/div[2]/div[2]/div/form/div/div[1]/ul/li[2]/div/input')\n",
    "job_location.send_keys('Bangalore')"
   ]
  },
  {
   "cell_type": "code",
   "execution_count": null,
   "id": "99590e3f",
   "metadata": {},
   "outputs": [],
   "source": [
    "search = driver.find_element(By.CLASS_NAME,\"searchForm_btnWrap__Cb75F\")\n",
    "search.click()"
   ]
  },
  {
   "cell_type": "code",
   "execution_count": null,
   "id": "e88b4743",
   "metadata": {},
   "outputs": [],
   "source": [
    "job_title =[]\n",
    "job_location = []\n",
    "company_name = []\n",
    "experience_required = []\n",
    "\n",
    "# can't able to fetch details of title tag  on internet got something css.selector for scrapting h2tag but we have no used it in lecture \n"
   ]
  },
  {
   "cell_type": "code",
   "execution_count": null,
   "id": "e393a24c",
   "metadata": {},
   "outputs": [],
   "source": [
    "title_tags=driver.find_elements(By.XPATH,'/html/body/div[1]/div[1]/div[4]/div/div[2]/div[1]/div/div/div[2]/div[1]/div[1]/h2/a')\n",
    "counter = 0\n",
    "for i in title_tags:\n",
    "    title = i.text\n",
    "    job_title.append(title)\n",
    "    counter +=1\n",
    "    if counter ==10:\n",
    "        break\n",
    "\n",
    "    \n",
    "location_tags = driver.find_elements(By.XPATH,'//div[@class=\" jobCard_jobCard_lists_item__YxRkV jobCard_locationIcon__zrWt2\"]')\n",
    "counter = 0\n",
    "for i in location_tags:\n",
    "    location = i.text\n",
    "    job_location.append(location)\n",
    "    counter +=1\n",
    "    if counter ==10:\n",
    "        break\n",
    "    \n",
    "company_tags = driver.find_elements(By.XPATH,'//div[@class=\"jobCard_jobCard_cName__mYnow\"]')\n",
    "counter = 0\n",
    "for i in company_tags:\n",
    "    company = i.text\n",
    "    company_name.append(company)\n",
    "    counter +=1\n",
    "    if counter ==10:\n",
    "        break\n",
    "    \n",
    "experience_tags = driver.find_elements(By.XPATH,'//div[@class=\" jobCard_jobCard_lists_item__YxRkV jobCard_jobIcon__3FB1t\"]')\n",
    "counter = 0\n",
    "for i in experience_tags:\n",
    "    experience = i.text\n",
    "    experience_required.append(experience)\n",
    "    counter +=1\n",
    "    if counter ==10:\n",
    "        break"
   ]
  },
  {
   "cell_type": "code",
   "execution_count": null,
   "id": "95235fb4",
   "metadata": {},
   "outputs": [],
   "source": [
    "len(job_title),len(job_location),len(company_name,),len(experience_required)"
   ]
  },
  {
   "cell_type": "code",
   "execution_count": null,
   "id": "55aa8d03",
   "metadata": {},
   "outputs": [],
   "source": [
    "import pandas as pd \n",
    "df = pd.DataFrame({\"title\":job_title,\"location\":job_location,\"company\":company_name,\"experience\":experience_required})"
   ]
  },
  {
   "cell_type": "code",
   "execution_count": null,
   "id": "65357ef5",
   "metadata": {},
   "outputs": [],
   "source": [
    "df"
   ]
  },
  {
   "cell_type": "code",
   "execution_count": null,
   "id": "67a50606",
   "metadata": {},
   "outputs": [],
   "source": [
    "# QUESTION 2 "
   ]
  },
  {
   "cell_type": "code",
   "execution_count": null,
   "id": "470a4718",
   "metadata": {},
   "outputs": [],
   "source": [
    "driver = webdriver.Chrome()"
   ]
  },
  {
   "cell_type": "code",
   "execution_count": null,
   "id": "5b8d7ae8",
   "metadata": {},
   "outputs": [],
   "source": [
    "driver.get('https://www.shine.com/')"
   ]
  },
  {
   "cell_type": "code",
   "execution_count": null,
   "id": "de72928d",
   "metadata": {},
   "outputs": [],
   "source": [
    "job_title = driver.find_element(By.XPATH,'/html/body/div/div[4]/div/div[2]/div[2]/div/form/div/div[1]/ul/li[1]/div/input')\n",
    "job_title.send_keys('Data scientist')\n",
    "\n",
    "job_location = driver.find_element(By.XPATH,'/html/body/div/div[4]/div/div[2]/div[2]/div/form/div/div[1]/ul/li[2]/div/input')\n",
    "job_location.send_keys('Bangalore')\n",
    "\n",
    "search = driver.find_element(By.CLASS_NAME,\"searchForm_btnWrap__Cb75F\")\n",
    "search.click()"
   ]
  },
  {
   "cell_type": "code",
   "execution_count": null,
   "id": "f1207386",
   "metadata": {},
   "outputs": [],
   "source": [
    "job_title =[]\n",
    "job_location = []\n",
    "company_name = []\n",
    "experience_required = []\n"
   ]
  },
  {
   "cell_type": "code",
   "execution_count": null,
   "id": "f7c63257",
   "metadata": {},
   "outputs": [],
   "source": [
    "title_tags=driver.find_elements(By.XPATH,'/html/body/div[1]/div[1]/div[4]/div/div[2]/div[1]/div/div/div[2]/div[1]/div[1]/h2/a')\n",
    "counter = 0\n",
    "for i in title_tags:\n",
    "    title = i.text\n",
    "    job_title.append(title)\n",
    "    counter +=1\n",
    "    if counter ==10:\n",
    "        break\n",
    "\n",
    "    \n",
    "location_tags = driver.find_elements(By.XPATH,'//div[@class=\" jobCard_jobCard_lists_item__YxRkV jobCard_locationIcon__zrWt2\"]')\n",
    "counter = 0\n",
    "for i in location_tags:\n",
    "    location = i.text\n",
    "    job_location.append(location)\n",
    "    counter +=1\n",
    "    if counter ==10:\n",
    "        break\n",
    "    \n",
    "company_tags = driver.find_elements(By.XPATH,'//div[@class=\"jobCard_jobCard_cName__mYnow\"]')\n",
    "counter = 0\n",
    "for i in company_tags:\n",
    "    company = i.text\n",
    "    company_name.append(company)\n",
    "    counter +=1\n",
    "    if counter ==10:\n",
    "        break\n",
    "    \n",
    "experience_tags = driver.find_elements(By.XPATH,'//div[@class=\" jobCard_jobCard_lists_item__YxRkV jobCard_jobIcon__3FB1t\"]')\n",
    "counter = 0\n",
    "for i in experience_tags:\n",
    "    experience = i.text\n",
    "    experience_required.append(experience)\n",
    "    counter +=1\n",
    "    if counter ==10:\n",
    "        break"
   ]
  },
  {
   "cell_type": "code",
   "execution_count": null,
   "id": "482a4392",
   "metadata": {},
   "outputs": [],
   "source": [
    "len(job_title),len(job_location),len(company_name,),len(experience_required)"
   ]
  },
  {
   "cell_type": "code",
   "execution_count": null,
   "id": "c11a52b6",
   "metadata": {},
   "outputs": [],
   "source": [
    "import pandas as pd \n",
    "df = pd.DataFrame({\"title\":job_title,\"location\":job_location,\"company\":company_name,\"experience\":experience_required})"
   ]
  },
  {
   "cell_type": "code",
   "execution_count": null,
   "id": "879638c9",
   "metadata": {},
   "outputs": [],
   "source": [
    "# QUESTION 3"
   ]
  },
  {
   "cell_type": "code",
   "execution_count": null,
   "id": "3917aad5",
   "metadata": {},
   "outputs": [],
   "source": [
    "job_title = driver.find_element(By.XPATH,'/html/body/div/div[4]/div/div[2]/div[2]/div/form/div/div[1]/ul/li[1]/div/input')\n",
    "job_title.send_keys('Data scientist')\n"
   ]
  },
  {
   "cell_type": "code",
   "execution_count": null,
   "id": "204a3415",
   "metadata": {},
   "outputs": [],
   "source": [
    "job_location = driver.find_element(By.XPATH,'/html/body/div/div[4]/div/div[2]/div[2]/div/form/div/div[1]/ul/li[2]/div/input')\n",
    "job_location.send_keys('Delhi/NCR')"
   ]
  },
  {
   "cell_type": "code",
   "execution_count": null,
   "id": "0b6fa49e",
   "metadata": {},
   "outputs": [],
   "source": [
    "job_salary = driver.find_element(By.XPATH,'/html/body/div[1]/div[3]/div/div[2]/div[2]/div[1]/form/div/div[1]/ul[2]/li[1]/div/input[1]')\n",
    "job_salary.send_keys('3-6')"
   ]
  },
  {
   "cell_type": "code",
   "execution_count": null,
   "id": "3a8e4f88",
   "metadata": {},
   "outputs": [],
   "source": [
    "search = driver.find_element(By.CLASS_NAME,\"searchForm_btnWrap__Cb75F\")\n",
    "search.click()"
   ]
  },
  {
   "cell_type": "code",
   "execution_count": null,
   "id": "2e56a9b4",
   "metadata": {},
   "outputs": [],
   "source": [
    "job_title =[]\n",
    "job_location = []\n",
    "company_name = []\n",
    "experience_required = []"
   ]
  },
  {
   "cell_type": "code",
   "execution_count": null,
   "id": "b65afe0f",
   "metadata": {},
   "outputs": [],
   "source": [
    "title_tags=driver.find_elements(By.XPATH,'/html/body/div[1]/div[1]/div[4]/div/div[2]/div[1]/div/div/div[2]/div[1]/div[1]/h2/a')\n",
    "counter = 0\n",
    "for i in title_tags:\n",
    "    title = i.text\n",
    "    job_title.append(title)\n",
    "    counter +=1\n",
    "    if counter ==10:\n",
    "        break\n",
    "\n",
    "    \n",
    "location_tags = driver.find_elements(By.XPATH,'//div[@class=\" jobCard_jobCard_lists_item__YxRkV jobCard_locationIcon__zrWt2\"]')\n",
    "counter = 0\n",
    "for i in location_tags:\n",
    "    location = i.text\n",
    "    job_location.append(location)\n",
    "    counter +=1\n",
    "    if counter ==10:\n",
    "        break\n",
    "    \n",
    "company_tags = driver.find_elements(By.XPATH,'//div[@class=\"jobCard_jobCard_cName__mYnow\"]')\n",
    "counter = 0\n",
    "for i in company_tags:\n",
    "    company = i.text\n",
    "    company_name.append(company)\n",
    "    counter +=1\n",
    "    if counter ==10:\n",
    "        break\n",
    "    \n",
    "experience_tags = driver.find_elements(By.XPATH,'//div[@class=\" jobCard_jobCard_lists_item__YxRkV jobCard_jobIcon__3FB1t\"]')\n",
    "counter = 0\n",
    "for i in experience_tags:\n",
    "    experience = i.text\n",
    "    experience_required.append(experience)\n",
    "    counter +=1\n",
    "    if counter ==10:\n",
    "        break"
   ]
  },
  {
   "cell_type": "code",
   "execution_count": null,
   "id": "358e3c5d",
   "metadata": {},
   "outputs": [],
   "source": [
    "len(job_title),len(job_location),len(company_name,),len(experience_required)"
   ]
  },
  {
   "cell_type": "code",
   "execution_count": null,
   "id": "90f1da99",
   "metadata": {},
   "outputs": [],
   "source": [
    "import pandas as pd \n",
    "df = pd.DataFrame({\"title\":job_title,\"location\":job_location,\"company\":company_name,\"experience\":experience_required})"
   ]
  },
  {
   "cell_type": "code",
   "execution_count": null,
   "id": "134b7866",
   "metadata": {},
   "outputs": [],
   "source": [
    "# QUESTION 4 "
   ]
  },
  {
   "cell_type": "code",
   "execution_count": null,
   "id": "8702635e",
   "metadata": {},
   "outputs": [],
   "source": [
    "driver.get('https://www.flipkart.com/')"
   ]
  },
  {
   "cell_type": "code",
   "execution_count": null,
   "id": "f1bfd80a",
   "metadata": {},
   "outputs": [],
   "source": [
    "product = driver.find_element(By.XPATH,'/html/body/div[1]/div/div[1]/div/div/div/div/div[1]/div/div[1]/div/div[1]/div[1]/header/div[1]/div[2]/form/div/div/input')\n",
    "product.send_keys('sunglasses')"
   ]
  },
  {
   "cell_type": "code",
   "execution_count": null,
   "id": "a58e7abe",
   "metadata": {},
   "outputs": [],
   "source": [
    "search = driver.find_element(By.CLASS_NAME,\"_2iLD__\")\n",
    "search.click()"
   ]
  },
  {
   "cell_type": "code",
   "execution_count": null,
   "id": "81f09655",
   "metadata": {},
   "outputs": [],
   "source": []
  },
  {
   "cell_type": "code",
   "execution_count": null,
   "id": "3a68f6b6",
   "metadata": {},
   "outputs": [],
   "source": [
    "product_brand = []\n",
    "start=0\n",
    "end = 3\n",
    "counter = 0\n",
    "for page in range(start,end):\n",
    "    brand_tag=driver.find_elements(By.XPATH,'//div[@class=\"_2WkVRV\"]')\n",
    "    for i in brand_tag:\n",
    "        brand = i.text\n",
    "        product_brand.append(brand)\n",
    "        counter+=1\n",
    "        if counter ==100:\n",
    "            break\n",
    "    next_button = driver.find_element(By.XPATH,'/html/body/div/div/div[3]/div[1]/div[2]/div[12]/div/div/nav/a[11]')\n",
    "    next_button.click()\n",
    "    time.sleep(3)\n",
    "    \n",
    "        \n",
    "\n",
    "    \n"
   ]
  },
  {
   "cell_type": "code",
   "execution_count": null,
   "id": "d73977c3",
   "metadata": {},
   "outputs": [],
   "source": [
    "len(product_brand)"
   ]
  },
  {
   "cell_type": "code",
   "execution_count": null,
   "id": "86b80d7a",
   "metadata": {},
   "outputs": [],
   "source": [
    "product_description = []\n",
    "start=0\n",
    "end = 4\n",
    "counter = 0\n",
    "for page in range(start,end):\n",
    "    description_tag=driver.find_elements(By.XPATH,'//div[@class=\"_2B099V\"]')\n",
    "    for i in description_tag:\n",
    "        description = i.text\n",
    "        product_description.append(description)\n",
    "        counter  +=1\n",
    "        if counter ==100:\n",
    "            break\n",
    "    next_button = driver.find_element(By.XPATH,'/html/body/div/div/div[3]/div[1]/div[2]/div[12]/div/div/nav/a[11]')\n",
    "    next_button.click()\n",
    "    time.sleep(3)"
   ]
  },
  {
   "cell_type": "code",
   "execution_count": null,
   "id": "fed4f20e",
   "metadata": {},
   "outputs": [],
   "source": []
  },
  {
   "cell_type": "code",
   "execution_count": null,
   "id": "fac6403a",
   "metadata": {},
   "outputs": [],
   "source": [
    "product_price = []\n",
    "start=0\n",
    "end = 4\n",
    "counter = 0\n",
    "for page in range(start,end):\n",
    "    price_tag=driver.find_elements(By.XPATH,'//div[@class=\"_30jeq3\"]')\n",
    "    for i in price_tag:\n",
    "        price = i.text\n",
    "        product_price.append(price)\n",
    "        counter +=1\n",
    "        if counter ==100:\n",
    "            break\n",
    "    next_button = driver.find_element(By.XPATH,'/html/body/div/div/div[3]/div[1]/div[2]/div[12]/div/div/nav/a[11]')\n",
    "    next_button.click()\n",
    "    time.sleep(3)"
   ]
  },
  {
   "cell_type": "code",
   "execution_count": null,
   "id": "52ffb4bd",
   "metadata": {},
   "outputs": [],
   "source": [
    "df = pd.DataFrame({\"Brand\":product_brand,\"Description\":product_description,\"Price\":product_price})"
   ]
  },
  {
   "cell_type": "code",
   "execution_count": null,
   "id": "815af192",
   "metadata": {},
   "outputs": [],
   "source": [
    "# QUESTION 5 "
   ]
  },
  {
   "cell_type": "code",
   "execution_count": 9,
   "id": "cb130690",
   "metadata": {},
   "outputs": [],
   "source": [
    "driver.get('https://www.flipkart.com/apple-iphone-11-black-64-gb/product-reviews/itm4e5041ba101fd?pid=MOBFWQ6BXGJCEYNY&lid=LSTMOBFWQ6BXGJCEYNYZXSHRJ&market')"
   ]
  },
  {
   "cell_type": "code",
   "execution_count": 12,
   "id": "ece83807",
   "metadata": {},
   "outputs": [
    {
     "ename": "NoSuchElementException",
     "evalue": "Message: no such element: Unable to locate element: {\"method\":\"xpath\",\"selector\":\"/html/body/div/div/div[3]/div/div/div[2]/div[13]/div/div/nav/a[12]/span\"}\n  (Session info: chrome=120.0.6099.71); For documentation on this error, please visit: https://www.selenium.dev/documentation/webdriver/troubleshooting/errors#no-such-element-exception\nStacktrace:\n\tGetHandleVerifier [0x00007FF7CC6A4D02+56194]\n\t(No symbol) [0x00007FF7CC6104B2]\n\t(No symbol) [0x00007FF7CC4B76AA]\n\t(No symbol) [0x00007FF7CC5016D0]\n\t(No symbol) [0x00007FF7CC5017EC]\n\t(No symbol) [0x00007FF7CC544D77]\n\t(No symbol) [0x00007FF7CC525EBF]\n\t(No symbol) [0x00007FF7CC542786]\n\t(No symbol) [0x00007FF7CC525C23]\n\t(No symbol) [0x00007FF7CC4F4A45]\n\t(No symbol) [0x00007FF7CC4F5AD4]\n\tGetHandleVerifier [0x00007FF7CCA1D5BB+3695675]\n\tGetHandleVerifier [0x00007FF7CCA76197+4059159]\n\tGetHandleVerifier [0x00007FF7CCA6DF63+4025827]\n\tGetHandleVerifier [0x00007FF7CC73F029+687785]\n\t(No symbol) [0x00007FF7CC61B508]\n\t(No symbol) [0x00007FF7CC617564]\n\t(No symbol) [0x00007FF7CC6176E9]\n\t(No symbol) [0x00007FF7CC608094]\n\tBaseThreadInitThunk [0x00007FF9AC157344+20]\n\tRtlUserThreadStart [0x00007FF9ADB626B1+33]\n",
     "output_type": "error",
     "traceback": [
      "\u001b[1;31m---------------------------------------------------------------------------\u001b[0m",
      "\u001b[1;31mNoSuchElementException\u001b[0m                    Traceback (most recent call last)",
      "Cell \u001b[1;32mIn[12], line 13\u001b[0m\n\u001b[0;32m     11\u001b[0m     \u001b[38;5;28;01mif\u001b[39;00m counter \u001b[38;5;241m==\u001b[39m\u001b[38;5;241m100\u001b[39m:\n\u001b[0;32m     12\u001b[0m         \u001b[38;5;28;01mbreak\u001b[39;00m\n\u001b[1;32m---> 13\u001b[0m next_button \u001b[38;5;241m=\u001b[39m driver\u001b[38;5;241m.\u001b[39mfind_element(By\u001b[38;5;241m.\u001b[39mXPATH,\u001b[38;5;124m'\u001b[39m\u001b[38;5;124m/html/body/div/div/div[3]/div/div/div[2]/div[13]/div/div/nav/a[12]/span\u001b[39m\u001b[38;5;124m'\u001b[39m)\n\u001b[0;32m     14\u001b[0m next_button\u001b[38;5;241m.\u001b[39mclick()\n\u001b[0;32m     15\u001b[0m time\u001b[38;5;241m.\u001b[39msleep(\u001b[38;5;241m3\u001b[39m)\n",
      "File \u001b[1;32m~\\anaconda3\\Lib\\site-packages\\selenium\\webdriver\\remote\\webdriver.py:741\u001b[0m, in \u001b[0;36mWebDriver.find_element\u001b[1;34m(self, by, value)\u001b[0m\n\u001b[0;32m    738\u001b[0m     by \u001b[38;5;241m=\u001b[39m By\u001b[38;5;241m.\u001b[39mCSS_SELECTOR\n\u001b[0;32m    739\u001b[0m     value \u001b[38;5;241m=\u001b[39m \u001b[38;5;124mf\u001b[39m\u001b[38;5;124m'\u001b[39m\u001b[38;5;124m[name=\u001b[39m\u001b[38;5;124m\"\u001b[39m\u001b[38;5;132;01m{\u001b[39;00mvalue\u001b[38;5;132;01m}\u001b[39;00m\u001b[38;5;124m\"\u001b[39m\u001b[38;5;124m]\u001b[39m\u001b[38;5;124m'\u001b[39m\n\u001b[1;32m--> 741\u001b[0m \u001b[38;5;28;01mreturn\u001b[39;00m \u001b[38;5;28mself\u001b[39m\u001b[38;5;241m.\u001b[39mexecute(Command\u001b[38;5;241m.\u001b[39mFIND_ELEMENT, {\u001b[38;5;124m\"\u001b[39m\u001b[38;5;124musing\u001b[39m\u001b[38;5;124m\"\u001b[39m: by, \u001b[38;5;124m\"\u001b[39m\u001b[38;5;124mvalue\u001b[39m\u001b[38;5;124m\"\u001b[39m: value})[\u001b[38;5;124m\"\u001b[39m\u001b[38;5;124mvalue\u001b[39m\u001b[38;5;124m\"\u001b[39m]\n",
      "File \u001b[1;32m~\\anaconda3\\Lib\\site-packages\\selenium\\webdriver\\remote\\webdriver.py:347\u001b[0m, in \u001b[0;36mWebDriver.execute\u001b[1;34m(self, driver_command, params)\u001b[0m\n\u001b[0;32m    345\u001b[0m response \u001b[38;5;241m=\u001b[39m \u001b[38;5;28mself\u001b[39m\u001b[38;5;241m.\u001b[39mcommand_executor\u001b[38;5;241m.\u001b[39mexecute(driver_command, params)\n\u001b[0;32m    346\u001b[0m \u001b[38;5;28;01mif\u001b[39;00m response:\n\u001b[1;32m--> 347\u001b[0m     \u001b[38;5;28mself\u001b[39m\u001b[38;5;241m.\u001b[39merror_handler\u001b[38;5;241m.\u001b[39mcheck_response(response)\n\u001b[0;32m    348\u001b[0m     response[\u001b[38;5;124m\"\u001b[39m\u001b[38;5;124mvalue\u001b[39m\u001b[38;5;124m\"\u001b[39m] \u001b[38;5;241m=\u001b[39m \u001b[38;5;28mself\u001b[39m\u001b[38;5;241m.\u001b[39m_unwrap_value(response\u001b[38;5;241m.\u001b[39mget(\u001b[38;5;124m\"\u001b[39m\u001b[38;5;124mvalue\u001b[39m\u001b[38;5;124m\"\u001b[39m, \u001b[38;5;28;01mNone\u001b[39;00m))\n\u001b[0;32m    349\u001b[0m     \u001b[38;5;28;01mreturn\u001b[39;00m response\n",
      "File \u001b[1;32m~\\anaconda3\\Lib\\site-packages\\selenium\\webdriver\\remote\\errorhandler.py:229\u001b[0m, in \u001b[0;36mErrorHandler.check_response\u001b[1;34m(self, response)\u001b[0m\n\u001b[0;32m    227\u001b[0m         alert_text \u001b[38;5;241m=\u001b[39m value[\u001b[38;5;124m\"\u001b[39m\u001b[38;5;124malert\u001b[39m\u001b[38;5;124m\"\u001b[39m]\u001b[38;5;241m.\u001b[39mget(\u001b[38;5;124m\"\u001b[39m\u001b[38;5;124mtext\u001b[39m\u001b[38;5;124m\"\u001b[39m)\n\u001b[0;32m    228\u001b[0m     \u001b[38;5;28;01mraise\u001b[39;00m exception_class(message, screen, stacktrace, alert_text)  \u001b[38;5;66;03m# type: ignore[call-arg]  # mypy is not smart enough here\u001b[39;00m\n\u001b[1;32m--> 229\u001b[0m \u001b[38;5;28;01mraise\u001b[39;00m exception_class(message, screen, stacktrace)\n",
      "\u001b[1;31mNoSuchElementException\u001b[0m: Message: no such element: Unable to locate element: {\"method\":\"xpath\",\"selector\":\"/html/body/div/div/div[3]/div/div/div[2]/div[13]/div/div/nav/a[12]/span\"}\n  (Session info: chrome=120.0.6099.71); For documentation on this error, please visit: https://www.selenium.dev/documentation/webdriver/troubleshooting/errors#no-such-element-exception\nStacktrace:\n\tGetHandleVerifier [0x00007FF7CC6A4D02+56194]\n\t(No symbol) [0x00007FF7CC6104B2]\n\t(No symbol) [0x00007FF7CC4B76AA]\n\t(No symbol) [0x00007FF7CC5016D0]\n\t(No symbol) [0x00007FF7CC5017EC]\n\t(No symbol) [0x00007FF7CC544D77]\n\t(No symbol) [0x00007FF7CC525EBF]\n\t(No symbol) [0x00007FF7CC542786]\n\t(No symbol) [0x00007FF7CC525C23]\n\t(No symbol) [0x00007FF7CC4F4A45]\n\t(No symbol) [0x00007FF7CC4F5AD4]\n\tGetHandleVerifier [0x00007FF7CCA1D5BB+3695675]\n\tGetHandleVerifier [0x00007FF7CCA76197+4059159]\n\tGetHandleVerifier [0x00007FF7CCA6DF63+4025827]\n\tGetHandleVerifier [0x00007FF7CC73F029+687785]\n\t(No symbol) [0x00007FF7CC61B508]\n\t(No symbol) [0x00007FF7CC617564]\n\t(No symbol) [0x00007FF7CC6176E9]\n\t(No symbol) [0x00007FF7CC608094]\n\tBaseThreadInitThunk [0x00007FF9AC157344+20]\n\tRtlUserThreadStart [0x00007FF9ADB626B1+33]\n"
     ]
    }
   ],
   "source": [
    "product_rating = []\n",
    "start=0\n",
    "end = 11\n",
    "counter = 0\n",
    "for page in range(start,end):\n",
    "    rating=driver.find_elements(By.XPATH,'//div[@class=\"_3LWZlK _1BLPMq\"]')\n",
    "    for i in rating:\n",
    "        rating = i.text\n",
    "        product_rating.append(rating)\n",
    "        counter +=1\n",
    "        if counter ==100:\n",
    "            break\n",
    "    next_button = driver.find_element(By.XPATH,'/html/body/div/div/div[3]/div/div/div[2]/div[13]/div/div/nav/a[12]/span')\n",
    "    next_button.click()\n",
    "    time.sleep(3)"
   ]
  },
  {
   "cell_type": "code",
   "execution_count": 8,
   "id": "2480df36",
   "metadata": {},
   "outputs": [
    {
     "data": {
      "text/plain": [
       "96"
      ]
     },
     "execution_count": 8,
     "metadata": {},
     "output_type": "execute_result"
    }
   ],
   "source": [
    "len(product_rating)"
   ]
  },
  {
   "cell_type": "code",
   "execution_count": null,
   "id": "7f9bb8bc",
   "metadata": {},
   "outputs": [],
   "source": [
    "product_review = []\n",
    "start=0\n",
    "end = 10\n",
    "counter = 0\n",
    "for page in range(start,end):\n",
    "    review=driver.find_elements(By.XPATH,'//p[@class=\"_2-N8zT\"]')\n",
    "    for i in review:\n",
    "        review = i.text\n",
    "        product_review.append(review)\n",
    "        counter +=1\n",
    "        if counter ==100:\n",
    "            break\n",
    "    next_button = driver.find_element(By.XPATH,'/html/body/div/div/div[3]/div/div/div[2]/div[13]/div/div/nav/a[12]/span')\n",
    "    next_button.click()\n",
    "    time.sleep(3)"
   ]
  },
  {
   "cell_type": "code",
   "execution_count": null,
   "id": "6ec50dff",
   "metadata": {},
   "outputs": [],
   "source": [
    "len(product_review)"
   ]
  },
  {
   "cell_type": "code",
   "execution_count": null,
   "id": "8827e2cb",
   "metadata": {},
   "outputs": [],
   "source": [
    "product_fullreview = []\n",
    "start=0\n",
    "end = 10\n",
    "counter = 0\n",
    "for page in range(start,end):\n",
    "    fullreview=driver.find_elements(By.XPATH,'//div[@class=\"t-ZTKy\"]')\n",
    "    for i in fullreview:\n",
    "        fullreview = i.text\n",
    "        product_fullreview.append(fullreview)\n",
    "        counter +=1\n",
    "        if counter ==100:\n",
    "            break\n",
    "    next_button = driver.find_element(By.XPATH,'/html/body/div/div/div[3]/div/div/div[2]/div[13]/div/div/nav/a[12]/span')\n",
    "    next_button.click()\n",
    "    time.sleep(3)"
   ]
  },
  {
   "cell_type": "code",
   "execution_count": 13,
   "id": "c8d31a14",
   "metadata": {},
   "outputs": [],
   "source": [
    "# QUESTION 6 "
   ]
  },
  {
   "cell_type": "code",
   "execution_count": 28,
   "id": "624b07d3",
   "metadata": {},
   "outputs": [],
   "source": [
    "driver.get('https://www.flipkart.com/')"
   ]
  },
  {
   "cell_type": "code",
   "execution_count": 29,
   "id": "2e14134c",
   "metadata": {},
   "outputs": [],
   "source": [
    "product_shoes = driver.find_element(By.XPATH,'/html/body/div[1]/div/div[1]/div/div/div/div/div[1]/div/div[1]/div/div[1]/div[1]/header/div[1]/div[2]/form/div/div/input')\n",
    "product_shoes.send_keys('sneakers')"
   ]
  },
  {
   "cell_type": "code",
   "execution_count": 30,
   "id": "9e4d7c13",
   "metadata": {},
   "outputs": [],
   "source": [
    "search = driver.find_element(By.CLASS_NAME,\"_2iLD__\")\n",
    "search.click()"
   ]
  },
  {
   "cell_type": "code",
   "execution_count": 26,
   "id": "2fc93865",
   "metadata": {},
   "outputs": [
    {
     "ename": "NoSuchElementException",
     "evalue": "Message: no such element: Unable to locate element: {\"method\":\"xpath\",\"selector\":\"/html/body/div/div/div[3]/div[1]/div[2]/div[12]/div/div/nav/a[11]/span\"}\n  (Session info: chrome=120.0.6099.71); For documentation on this error, please visit: https://www.selenium.dev/documentation/webdriver/troubleshooting/errors#no-such-element-exception\nStacktrace:\n\tGetHandleVerifier [0x00007FF7CC6A4D02+56194]\n\t(No symbol) [0x00007FF7CC6104B2]\n\t(No symbol) [0x00007FF7CC4B76AA]\n\t(No symbol) [0x00007FF7CC5016D0]\n\t(No symbol) [0x00007FF7CC5017EC]\n\t(No symbol) [0x00007FF7CC544D77]\n\t(No symbol) [0x00007FF7CC525EBF]\n\t(No symbol) [0x00007FF7CC542786]\n\t(No symbol) [0x00007FF7CC525C23]\n\t(No symbol) [0x00007FF7CC4F4A45]\n\t(No symbol) [0x00007FF7CC4F5AD4]\n\tGetHandleVerifier [0x00007FF7CCA1D5BB+3695675]\n\tGetHandleVerifier [0x00007FF7CCA76197+4059159]\n\tGetHandleVerifier [0x00007FF7CCA6DF63+4025827]\n\tGetHandleVerifier [0x00007FF7CC73F029+687785]\n\t(No symbol) [0x00007FF7CC61B508]\n\t(No symbol) [0x00007FF7CC617564]\n\t(No symbol) [0x00007FF7CC6176E9]\n\t(No symbol) [0x00007FF7CC608094]\n\tBaseThreadInitThunk [0x00007FF9AC157344+20]\n\tRtlUserThreadStart [0x00007FF9ADB626B1+33]\n",
     "output_type": "error",
     "traceback": [
      "\u001b[1;31m---------------------------------------------------------------------------\u001b[0m",
      "\u001b[1;31mNoSuchElementException\u001b[0m                    Traceback (most recent call last)",
      "Cell \u001b[1;32mIn[26], line 13\u001b[0m\n\u001b[0;32m     11\u001b[0m     \u001b[38;5;28;01mif\u001b[39;00m counter \u001b[38;5;241m==\u001b[39m\u001b[38;5;241m100\u001b[39m:\n\u001b[0;32m     12\u001b[0m         \u001b[38;5;28;01mbreak\u001b[39;00m\n\u001b[1;32m---> 13\u001b[0m next_button \u001b[38;5;241m=\u001b[39m driver\u001b[38;5;241m.\u001b[39mfind_element(By\u001b[38;5;241m.\u001b[39mXPATH,\u001b[38;5;124m'\u001b[39m\u001b[38;5;124m/html/body/div/div/div[3]/div[1]/div[2]/div[12]/div/div/nav/a[11]/span\u001b[39m\u001b[38;5;124m'\u001b[39m)\n\u001b[0;32m     14\u001b[0m next_button\u001b[38;5;241m.\u001b[39mclick()\n\u001b[0;32m     15\u001b[0m time\u001b[38;5;241m.\u001b[39msleep(\u001b[38;5;241m3\u001b[39m)\n",
      "File \u001b[1;32m~\\anaconda3\\Lib\\site-packages\\selenium\\webdriver\\remote\\webdriver.py:741\u001b[0m, in \u001b[0;36mWebDriver.find_element\u001b[1;34m(self, by, value)\u001b[0m\n\u001b[0;32m    738\u001b[0m     by \u001b[38;5;241m=\u001b[39m By\u001b[38;5;241m.\u001b[39mCSS_SELECTOR\n\u001b[0;32m    739\u001b[0m     value \u001b[38;5;241m=\u001b[39m \u001b[38;5;124mf\u001b[39m\u001b[38;5;124m'\u001b[39m\u001b[38;5;124m[name=\u001b[39m\u001b[38;5;124m\"\u001b[39m\u001b[38;5;132;01m{\u001b[39;00mvalue\u001b[38;5;132;01m}\u001b[39;00m\u001b[38;5;124m\"\u001b[39m\u001b[38;5;124m]\u001b[39m\u001b[38;5;124m'\u001b[39m\n\u001b[1;32m--> 741\u001b[0m \u001b[38;5;28;01mreturn\u001b[39;00m \u001b[38;5;28mself\u001b[39m\u001b[38;5;241m.\u001b[39mexecute(Command\u001b[38;5;241m.\u001b[39mFIND_ELEMENT, {\u001b[38;5;124m\"\u001b[39m\u001b[38;5;124musing\u001b[39m\u001b[38;5;124m\"\u001b[39m: by, \u001b[38;5;124m\"\u001b[39m\u001b[38;5;124mvalue\u001b[39m\u001b[38;5;124m\"\u001b[39m: value})[\u001b[38;5;124m\"\u001b[39m\u001b[38;5;124mvalue\u001b[39m\u001b[38;5;124m\"\u001b[39m]\n",
      "File \u001b[1;32m~\\anaconda3\\Lib\\site-packages\\selenium\\webdriver\\remote\\webdriver.py:347\u001b[0m, in \u001b[0;36mWebDriver.execute\u001b[1;34m(self, driver_command, params)\u001b[0m\n\u001b[0;32m    345\u001b[0m response \u001b[38;5;241m=\u001b[39m \u001b[38;5;28mself\u001b[39m\u001b[38;5;241m.\u001b[39mcommand_executor\u001b[38;5;241m.\u001b[39mexecute(driver_command, params)\n\u001b[0;32m    346\u001b[0m \u001b[38;5;28;01mif\u001b[39;00m response:\n\u001b[1;32m--> 347\u001b[0m     \u001b[38;5;28mself\u001b[39m\u001b[38;5;241m.\u001b[39merror_handler\u001b[38;5;241m.\u001b[39mcheck_response(response)\n\u001b[0;32m    348\u001b[0m     response[\u001b[38;5;124m\"\u001b[39m\u001b[38;5;124mvalue\u001b[39m\u001b[38;5;124m\"\u001b[39m] \u001b[38;5;241m=\u001b[39m \u001b[38;5;28mself\u001b[39m\u001b[38;5;241m.\u001b[39m_unwrap_value(response\u001b[38;5;241m.\u001b[39mget(\u001b[38;5;124m\"\u001b[39m\u001b[38;5;124mvalue\u001b[39m\u001b[38;5;124m\"\u001b[39m, \u001b[38;5;28;01mNone\u001b[39;00m))\n\u001b[0;32m    349\u001b[0m     \u001b[38;5;28;01mreturn\u001b[39;00m response\n",
      "File \u001b[1;32m~\\anaconda3\\Lib\\site-packages\\selenium\\webdriver\\remote\\errorhandler.py:229\u001b[0m, in \u001b[0;36mErrorHandler.check_response\u001b[1;34m(self, response)\u001b[0m\n\u001b[0;32m    227\u001b[0m         alert_text \u001b[38;5;241m=\u001b[39m value[\u001b[38;5;124m\"\u001b[39m\u001b[38;5;124malert\u001b[39m\u001b[38;5;124m\"\u001b[39m]\u001b[38;5;241m.\u001b[39mget(\u001b[38;5;124m\"\u001b[39m\u001b[38;5;124mtext\u001b[39m\u001b[38;5;124m\"\u001b[39m)\n\u001b[0;32m    228\u001b[0m     \u001b[38;5;28;01mraise\u001b[39;00m exception_class(message, screen, stacktrace, alert_text)  \u001b[38;5;66;03m# type: ignore[call-arg]  # mypy is not smart enough here\u001b[39;00m\n\u001b[1;32m--> 229\u001b[0m \u001b[38;5;28;01mraise\u001b[39;00m exception_class(message, screen, stacktrace)\n",
      "\u001b[1;31mNoSuchElementException\u001b[0m: Message: no such element: Unable to locate element: {\"method\":\"xpath\",\"selector\":\"/html/body/div/div/div[3]/div[1]/div[2]/div[12]/div/div/nav/a[11]/span\"}\n  (Session info: chrome=120.0.6099.71); For documentation on this error, please visit: https://www.selenium.dev/documentation/webdriver/troubleshooting/errors#no-such-element-exception\nStacktrace:\n\tGetHandleVerifier [0x00007FF7CC6A4D02+56194]\n\t(No symbol) [0x00007FF7CC6104B2]\n\t(No symbol) [0x00007FF7CC4B76AA]\n\t(No symbol) [0x00007FF7CC5016D0]\n\t(No symbol) [0x00007FF7CC5017EC]\n\t(No symbol) [0x00007FF7CC544D77]\n\t(No symbol) [0x00007FF7CC525EBF]\n\t(No symbol) [0x00007FF7CC542786]\n\t(No symbol) [0x00007FF7CC525C23]\n\t(No symbol) [0x00007FF7CC4F4A45]\n\t(No symbol) [0x00007FF7CC4F5AD4]\n\tGetHandleVerifier [0x00007FF7CCA1D5BB+3695675]\n\tGetHandleVerifier [0x00007FF7CCA76197+4059159]\n\tGetHandleVerifier [0x00007FF7CCA6DF63+4025827]\n\tGetHandleVerifier [0x00007FF7CC73F029+687785]\n\t(No symbol) [0x00007FF7CC61B508]\n\t(No symbol) [0x00007FF7CC617564]\n\t(No symbol) [0x00007FF7CC6176E9]\n\t(No symbol) [0x00007FF7CC608094]\n\tBaseThreadInitThunk [0x00007FF9AC157344+20]\n\tRtlUserThreadStart [0x00007FF9ADB626B1+33]\n"
     ]
    }
   ],
   "source": [
    "sneaker_brand = []   # while running this code next button XPATH is changing on second page \n",
    "start=0\n",
    "end = 3\n",
    "counter = 0\n",
    "for page in range(start,end):\n",
    "    shoebrand=driver.find_elements(By.XPATH,'//div[@class=\"_2WkVRV\"]')\n",
    "    for i in shoebrand:\n",
    "        brand = i.text\n",
    "        sneaker_brand.append(brand)\n",
    "        counter +=1\n",
    "        if counter ==100:\n",
    "            break\n",
    "    next_button = driver.find_element(By.XPATH,'/html/body/div/div/div[3]/div[1]/div[2]/div[12]/div/div/nav/a[11]/span')\n",
    "    next_button.click()\n",
    "    time.sleep(3)"
   ]
  },
  {
   "cell_type": "code",
   "execution_count": 31,
   "id": "db0db8d4",
   "metadata": {},
   "outputs": [
    {
     "ename": "NoSuchElementException",
     "evalue": "Message: no such element: Unable to locate element: {\"method\":\"xpath\",\"selector\":\"/html/body/div/div/div[3]/div[1]/div[2]/div[12]/div/div/nav/a[11]/span\"}\n  (Session info: chrome=120.0.6099.71); For documentation on this error, please visit: https://www.selenium.dev/documentation/webdriver/troubleshooting/errors#no-such-element-exception\nStacktrace:\n\tGetHandleVerifier [0x00007FF7CC6A4D02+56194]\n\t(No symbol) [0x00007FF7CC6104B2]\n\t(No symbol) [0x00007FF7CC4B76AA]\n\t(No symbol) [0x00007FF7CC5016D0]\n\t(No symbol) [0x00007FF7CC5017EC]\n\t(No symbol) [0x00007FF7CC544D77]\n\t(No symbol) [0x00007FF7CC525EBF]\n\t(No symbol) [0x00007FF7CC542786]\n\t(No symbol) [0x00007FF7CC525C23]\n\t(No symbol) [0x00007FF7CC4F4A45]\n\t(No symbol) [0x00007FF7CC4F5AD4]\n\tGetHandleVerifier [0x00007FF7CCA1D5BB+3695675]\n\tGetHandleVerifier [0x00007FF7CCA76197+4059159]\n\tGetHandleVerifier [0x00007FF7CCA6DF63+4025827]\n\tGetHandleVerifier [0x00007FF7CC73F029+687785]\n\t(No symbol) [0x00007FF7CC61B508]\n\t(No symbol) [0x00007FF7CC617564]\n\t(No symbol) [0x00007FF7CC6176E9]\n\t(No symbol) [0x00007FF7CC608094]\n\tBaseThreadInitThunk [0x00007FF9AC157344+20]\n\tRtlUserThreadStart [0x00007FF9ADB626B1+33]\n",
     "output_type": "error",
     "traceback": [
      "\u001b[1;31m---------------------------------------------------------------------------\u001b[0m",
      "\u001b[1;31mNoSuchElementException\u001b[0m                    Traceback (most recent call last)",
      "Cell \u001b[1;32mIn[31], line 13\u001b[0m\n\u001b[0;32m     11\u001b[0m     \u001b[38;5;28;01mif\u001b[39;00m counter \u001b[38;5;241m==\u001b[39m\u001b[38;5;241m100\u001b[39m:\n\u001b[0;32m     12\u001b[0m         \u001b[38;5;28;01mbreak\u001b[39;00m\n\u001b[1;32m---> 13\u001b[0m next_button \u001b[38;5;241m=\u001b[39m driver\u001b[38;5;241m.\u001b[39mfind_element(By\u001b[38;5;241m.\u001b[39mXPATH,\u001b[38;5;124m'\u001b[39m\u001b[38;5;124m/html/body/div/div/div[3]/div[1]/div[2]/div[12]/div/div/nav/a[11]/span\u001b[39m\u001b[38;5;124m'\u001b[39m)\n\u001b[0;32m     14\u001b[0m next_button\u001b[38;5;241m.\u001b[39mclick()\n\u001b[0;32m     15\u001b[0m time\u001b[38;5;241m.\u001b[39msleep(\u001b[38;5;241m3\u001b[39m)\n",
      "File \u001b[1;32m~\\anaconda3\\Lib\\site-packages\\selenium\\webdriver\\remote\\webdriver.py:741\u001b[0m, in \u001b[0;36mWebDriver.find_element\u001b[1;34m(self, by, value)\u001b[0m\n\u001b[0;32m    738\u001b[0m     by \u001b[38;5;241m=\u001b[39m By\u001b[38;5;241m.\u001b[39mCSS_SELECTOR\n\u001b[0;32m    739\u001b[0m     value \u001b[38;5;241m=\u001b[39m \u001b[38;5;124mf\u001b[39m\u001b[38;5;124m'\u001b[39m\u001b[38;5;124m[name=\u001b[39m\u001b[38;5;124m\"\u001b[39m\u001b[38;5;132;01m{\u001b[39;00mvalue\u001b[38;5;132;01m}\u001b[39;00m\u001b[38;5;124m\"\u001b[39m\u001b[38;5;124m]\u001b[39m\u001b[38;5;124m'\u001b[39m\n\u001b[1;32m--> 741\u001b[0m \u001b[38;5;28;01mreturn\u001b[39;00m \u001b[38;5;28mself\u001b[39m\u001b[38;5;241m.\u001b[39mexecute(Command\u001b[38;5;241m.\u001b[39mFIND_ELEMENT, {\u001b[38;5;124m\"\u001b[39m\u001b[38;5;124musing\u001b[39m\u001b[38;5;124m\"\u001b[39m: by, \u001b[38;5;124m\"\u001b[39m\u001b[38;5;124mvalue\u001b[39m\u001b[38;5;124m\"\u001b[39m: value})[\u001b[38;5;124m\"\u001b[39m\u001b[38;5;124mvalue\u001b[39m\u001b[38;5;124m\"\u001b[39m]\n",
      "File \u001b[1;32m~\\anaconda3\\Lib\\site-packages\\selenium\\webdriver\\remote\\webdriver.py:347\u001b[0m, in \u001b[0;36mWebDriver.execute\u001b[1;34m(self, driver_command, params)\u001b[0m\n\u001b[0;32m    345\u001b[0m response \u001b[38;5;241m=\u001b[39m \u001b[38;5;28mself\u001b[39m\u001b[38;5;241m.\u001b[39mcommand_executor\u001b[38;5;241m.\u001b[39mexecute(driver_command, params)\n\u001b[0;32m    346\u001b[0m \u001b[38;5;28;01mif\u001b[39;00m response:\n\u001b[1;32m--> 347\u001b[0m     \u001b[38;5;28mself\u001b[39m\u001b[38;5;241m.\u001b[39merror_handler\u001b[38;5;241m.\u001b[39mcheck_response(response)\n\u001b[0;32m    348\u001b[0m     response[\u001b[38;5;124m\"\u001b[39m\u001b[38;5;124mvalue\u001b[39m\u001b[38;5;124m\"\u001b[39m] \u001b[38;5;241m=\u001b[39m \u001b[38;5;28mself\u001b[39m\u001b[38;5;241m.\u001b[39m_unwrap_value(response\u001b[38;5;241m.\u001b[39mget(\u001b[38;5;124m\"\u001b[39m\u001b[38;5;124mvalue\u001b[39m\u001b[38;5;124m\"\u001b[39m, \u001b[38;5;28;01mNone\u001b[39;00m))\n\u001b[0;32m    349\u001b[0m     \u001b[38;5;28;01mreturn\u001b[39;00m response\n",
      "File \u001b[1;32m~\\anaconda3\\Lib\\site-packages\\selenium\\webdriver\\remote\\errorhandler.py:229\u001b[0m, in \u001b[0;36mErrorHandler.check_response\u001b[1;34m(self, response)\u001b[0m\n\u001b[0;32m    227\u001b[0m         alert_text \u001b[38;5;241m=\u001b[39m value[\u001b[38;5;124m\"\u001b[39m\u001b[38;5;124malert\u001b[39m\u001b[38;5;124m\"\u001b[39m]\u001b[38;5;241m.\u001b[39mget(\u001b[38;5;124m\"\u001b[39m\u001b[38;5;124mtext\u001b[39m\u001b[38;5;124m\"\u001b[39m)\n\u001b[0;32m    228\u001b[0m     \u001b[38;5;28;01mraise\u001b[39;00m exception_class(message, screen, stacktrace, alert_text)  \u001b[38;5;66;03m# type: ignore[call-arg]  # mypy is not smart enough here\u001b[39;00m\n\u001b[1;32m--> 229\u001b[0m \u001b[38;5;28;01mraise\u001b[39;00m exception_class(message, screen, stacktrace)\n",
      "\u001b[1;31mNoSuchElementException\u001b[0m: Message: no such element: Unable to locate element: {\"method\":\"xpath\",\"selector\":\"/html/body/div/div/div[3]/div[1]/div[2]/div[12]/div/div/nav/a[11]/span\"}\n  (Session info: chrome=120.0.6099.71); For documentation on this error, please visit: https://www.selenium.dev/documentation/webdriver/troubleshooting/errors#no-such-element-exception\nStacktrace:\n\tGetHandleVerifier [0x00007FF7CC6A4D02+56194]\n\t(No symbol) [0x00007FF7CC6104B2]\n\t(No symbol) [0x00007FF7CC4B76AA]\n\t(No symbol) [0x00007FF7CC5016D0]\n\t(No symbol) [0x00007FF7CC5017EC]\n\t(No symbol) [0x00007FF7CC544D77]\n\t(No symbol) [0x00007FF7CC525EBF]\n\t(No symbol) [0x00007FF7CC542786]\n\t(No symbol) [0x00007FF7CC525C23]\n\t(No symbol) [0x00007FF7CC4F4A45]\n\t(No symbol) [0x00007FF7CC4F5AD4]\n\tGetHandleVerifier [0x00007FF7CCA1D5BB+3695675]\n\tGetHandleVerifier [0x00007FF7CCA76197+4059159]\n\tGetHandleVerifier [0x00007FF7CCA6DF63+4025827]\n\tGetHandleVerifier [0x00007FF7CC73F029+687785]\n\t(No symbol) [0x00007FF7CC61B508]\n\t(No symbol) [0x00007FF7CC617564]\n\t(No symbol) [0x00007FF7CC6176E9]\n\t(No symbol) [0x00007FF7CC608094]\n\tBaseThreadInitThunk [0x00007FF9AC157344+20]\n\tRtlUserThreadStart [0x00007FF9ADB626B1+33]\n"
     ]
    }
   ],
   "source": [
    "sneaker_description = []   # while running this code next button XPATH is changing on second page \n",
    "start=0\n",
    "end = 3\n",
    "counter = 0\n",
    "for page in range(start,end):\n",
    "    description=driver.find_elements(By.XPATH,'//div[@class=\"_2WkVRV\"]')\n",
    "    for i in description:\n",
    "        description = i.text\n",
    "        sneaker_description.append(description)\n",
    "        counter +=1\n",
    "        if counter ==100:\n",
    "            break\n",
    "    next_button = driver.find_element(By.XPATH,'/html/body/div/div/div[3]/div[1]/div[2]/div[12]/div/div/nav/a[11]/span')\n",
    "    next_button.click()\n",
    "    time.sleep(3)"
   ]
  },
  {
   "cell_type": "code",
   "execution_count": 36,
   "id": "b1d070bb",
   "metadata": {},
   "outputs": [
    {
     "ename": "NoSuchElementException",
     "evalue": "Message: no such element: Unable to locate element: {\"method\":\"xpath\",\"selector\":\"/html/body/div/div/div[3]/div[1]/div[2]/div[12]/div/div/nav/a[11]/span\"}\n  (Session info: chrome=120.0.6099.71); For documentation on this error, please visit: https://www.selenium.dev/documentation/webdriver/troubleshooting/errors#no-such-element-exception\nStacktrace:\n\tGetHandleVerifier [0x00007FF7CC6A4D02+56194]\n\t(No symbol) [0x00007FF7CC6104B2]\n\t(No symbol) [0x00007FF7CC4B76AA]\n\t(No symbol) [0x00007FF7CC5016D0]\n\t(No symbol) [0x00007FF7CC5017EC]\n\t(No symbol) [0x00007FF7CC544D77]\n\t(No symbol) [0x00007FF7CC525EBF]\n\t(No symbol) [0x00007FF7CC542786]\n\t(No symbol) [0x00007FF7CC525C23]\n\t(No symbol) [0x00007FF7CC4F4A45]\n\t(No symbol) [0x00007FF7CC4F5AD4]\n\tGetHandleVerifier [0x00007FF7CCA1D5BB+3695675]\n\tGetHandleVerifier [0x00007FF7CCA76197+4059159]\n\tGetHandleVerifier [0x00007FF7CCA6DF63+4025827]\n\tGetHandleVerifier [0x00007FF7CC73F029+687785]\n\t(No symbol) [0x00007FF7CC61B508]\n\t(No symbol) [0x00007FF7CC617564]\n\t(No symbol) [0x00007FF7CC6176E9]\n\t(No symbol) [0x00007FF7CC608094]\n\tBaseThreadInitThunk [0x00007FF9AC157344+20]\n\tRtlUserThreadStart [0x00007FF9ADB626B1+33]\n",
     "output_type": "error",
     "traceback": [
      "\u001b[1;31m---------------------------------------------------------------------------\u001b[0m",
      "\u001b[1;31mNoSuchElementException\u001b[0m                    Traceback (most recent call last)",
      "Cell \u001b[1;32mIn[36], line 13\u001b[0m\n\u001b[0;32m     11\u001b[0m     \u001b[38;5;28;01mif\u001b[39;00m counter \u001b[38;5;241m==\u001b[39m\u001b[38;5;241m100\u001b[39m:\n\u001b[0;32m     12\u001b[0m         \u001b[38;5;28;01mbreak\u001b[39;00m\n\u001b[1;32m---> 13\u001b[0m next_button \u001b[38;5;241m=\u001b[39m driver\u001b[38;5;241m.\u001b[39mfind_element(By\u001b[38;5;241m.\u001b[39mXPATH,\u001b[38;5;124m'\u001b[39m\u001b[38;5;124m/html/body/div/div/div[3]/div[1]/div[2]/div[12]/div/div/nav/a[11]/span\u001b[39m\u001b[38;5;124m'\u001b[39m)\n\u001b[0;32m     14\u001b[0m next_button\u001b[38;5;241m.\u001b[39mclick()\n\u001b[0;32m     15\u001b[0m time\u001b[38;5;241m.\u001b[39msleep(\u001b[38;5;241m3\u001b[39m)\n",
      "File \u001b[1;32m~\\anaconda3\\Lib\\site-packages\\selenium\\webdriver\\remote\\webdriver.py:741\u001b[0m, in \u001b[0;36mWebDriver.find_element\u001b[1;34m(self, by, value)\u001b[0m\n\u001b[0;32m    738\u001b[0m     by \u001b[38;5;241m=\u001b[39m By\u001b[38;5;241m.\u001b[39mCSS_SELECTOR\n\u001b[0;32m    739\u001b[0m     value \u001b[38;5;241m=\u001b[39m \u001b[38;5;124mf\u001b[39m\u001b[38;5;124m'\u001b[39m\u001b[38;5;124m[name=\u001b[39m\u001b[38;5;124m\"\u001b[39m\u001b[38;5;132;01m{\u001b[39;00mvalue\u001b[38;5;132;01m}\u001b[39;00m\u001b[38;5;124m\"\u001b[39m\u001b[38;5;124m]\u001b[39m\u001b[38;5;124m'\u001b[39m\n\u001b[1;32m--> 741\u001b[0m \u001b[38;5;28;01mreturn\u001b[39;00m \u001b[38;5;28mself\u001b[39m\u001b[38;5;241m.\u001b[39mexecute(Command\u001b[38;5;241m.\u001b[39mFIND_ELEMENT, {\u001b[38;5;124m\"\u001b[39m\u001b[38;5;124musing\u001b[39m\u001b[38;5;124m\"\u001b[39m: by, \u001b[38;5;124m\"\u001b[39m\u001b[38;5;124mvalue\u001b[39m\u001b[38;5;124m\"\u001b[39m: value})[\u001b[38;5;124m\"\u001b[39m\u001b[38;5;124mvalue\u001b[39m\u001b[38;5;124m\"\u001b[39m]\n",
      "File \u001b[1;32m~\\anaconda3\\Lib\\site-packages\\selenium\\webdriver\\remote\\webdriver.py:347\u001b[0m, in \u001b[0;36mWebDriver.execute\u001b[1;34m(self, driver_command, params)\u001b[0m\n\u001b[0;32m    345\u001b[0m response \u001b[38;5;241m=\u001b[39m \u001b[38;5;28mself\u001b[39m\u001b[38;5;241m.\u001b[39mcommand_executor\u001b[38;5;241m.\u001b[39mexecute(driver_command, params)\n\u001b[0;32m    346\u001b[0m \u001b[38;5;28;01mif\u001b[39;00m response:\n\u001b[1;32m--> 347\u001b[0m     \u001b[38;5;28mself\u001b[39m\u001b[38;5;241m.\u001b[39merror_handler\u001b[38;5;241m.\u001b[39mcheck_response(response)\n\u001b[0;32m    348\u001b[0m     response[\u001b[38;5;124m\"\u001b[39m\u001b[38;5;124mvalue\u001b[39m\u001b[38;5;124m\"\u001b[39m] \u001b[38;5;241m=\u001b[39m \u001b[38;5;28mself\u001b[39m\u001b[38;5;241m.\u001b[39m_unwrap_value(response\u001b[38;5;241m.\u001b[39mget(\u001b[38;5;124m\"\u001b[39m\u001b[38;5;124mvalue\u001b[39m\u001b[38;5;124m\"\u001b[39m, \u001b[38;5;28;01mNone\u001b[39;00m))\n\u001b[0;32m    349\u001b[0m     \u001b[38;5;28;01mreturn\u001b[39;00m response\n",
      "File \u001b[1;32m~\\anaconda3\\Lib\\site-packages\\selenium\\webdriver\\remote\\errorhandler.py:229\u001b[0m, in \u001b[0;36mErrorHandler.check_response\u001b[1;34m(self, response)\u001b[0m\n\u001b[0;32m    227\u001b[0m         alert_text \u001b[38;5;241m=\u001b[39m value[\u001b[38;5;124m\"\u001b[39m\u001b[38;5;124malert\u001b[39m\u001b[38;5;124m\"\u001b[39m]\u001b[38;5;241m.\u001b[39mget(\u001b[38;5;124m\"\u001b[39m\u001b[38;5;124mtext\u001b[39m\u001b[38;5;124m\"\u001b[39m)\n\u001b[0;32m    228\u001b[0m     \u001b[38;5;28;01mraise\u001b[39;00m exception_class(message, screen, stacktrace, alert_text)  \u001b[38;5;66;03m# type: ignore[call-arg]  # mypy is not smart enough here\u001b[39;00m\n\u001b[1;32m--> 229\u001b[0m \u001b[38;5;28;01mraise\u001b[39;00m exception_class(message, screen, stacktrace)\n",
      "\u001b[1;31mNoSuchElementException\u001b[0m: Message: no such element: Unable to locate element: {\"method\":\"xpath\",\"selector\":\"/html/body/div/div/div[3]/div[1]/div[2]/div[12]/div/div/nav/a[11]/span\"}\n  (Session info: chrome=120.0.6099.71); For documentation on this error, please visit: https://www.selenium.dev/documentation/webdriver/troubleshooting/errors#no-such-element-exception\nStacktrace:\n\tGetHandleVerifier [0x00007FF7CC6A4D02+56194]\n\t(No symbol) [0x00007FF7CC6104B2]\n\t(No symbol) [0x00007FF7CC4B76AA]\n\t(No symbol) [0x00007FF7CC5016D0]\n\t(No symbol) [0x00007FF7CC5017EC]\n\t(No symbol) [0x00007FF7CC544D77]\n\t(No symbol) [0x00007FF7CC525EBF]\n\t(No symbol) [0x00007FF7CC542786]\n\t(No symbol) [0x00007FF7CC525C23]\n\t(No symbol) [0x00007FF7CC4F4A45]\n\t(No symbol) [0x00007FF7CC4F5AD4]\n\tGetHandleVerifier [0x00007FF7CCA1D5BB+3695675]\n\tGetHandleVerifier [0x00007FF7CCA76197+4059159]\n\tGetHandleVerifier [0x00007FF7CCA6DF63+4025827]\n\tGetHandleVerifier [0x00007FF7CC73F029+687785]\n\t(No symbol) [0x00007FF7CC61B508]\n\t(No symbol) [0x00007FF7CC617564]\n\t(No symbol) [0x00007FF7CC6176E9]\n\t(No symbol) [0x00007FF7CC608094]\n\tBaseThreadInitThunk [0x00007FF9AC157344+20]\n\tRtlUserThreadStart [0x00007FF9ADB626B1+33]\n"
     ]
    }
   ],
   "source": [
    "\n",
    "sneaker_price = []   # while running this code next button XPATH is changing on second page \n",
    "start=0\n",
    "end = 3\n",
    "counter = 0\n",
    "for page in range(start,end):\n",
    "    price=driver.find_elements(By.XPATH,'//div[@class=\"_30jeq3\"]')\n",
    "    for i in price:\n",
    "        price = i.text\n",
    "        sneaker_price.append(price)\n",
    "        counter +=1\n",
    "        if counter ==100:\n",
    "            break\n",
    "    next_button = driver.find_element(By.XPATH,'/html/body/div/div/div[3]/div[1]/div[2]/div[12]/div/div/nav/a[11]/span')\n",
    "    next_button.click()\n",
    "    time.sleep(3)"
   ]
  },
  {
   "cell_type": "code",
   "execution_count": 37,
   "id": "e4dd6a88",
   "metadata": {},
   "outputs": [
    {
     "data": {
      "text/plain": [
       "['₹479',\n",
       " '₹477',\n",
       " '₹1,579',\n",
       " '₹149',\n",
       " '₹2,499',\n",
       " '₹1,199',\n",
       " '₹198',\n",
       " '₹499',\n",
       " '₹469',\n",
       " '₹2,058',\n",
       " '₹941',\n",
       " '₹499',\n",
       " '₹356',\n",
       " '₹2,685',\n",
       " '₹999',\n",
       " '₹1,041',\n",
       " '₹463',\n",
       " '₹599',\n",
       " '₹2,693',\n",
       " '₹1,379',\n",
       " '₹1,339',\n",
       " '₹397',\n",
       " '₹539',\n",
       " '₹1,098',\n",
       " '₹1,492',\n",
       " '₹2,275',\n",
       " '₹499',\n",
       " '₹489',\n",
       " '₹2,399',\n",
       " '₹347',\n",
       " '₹1,198',\n",
       " '₹499',\n",
       " '₹1,775',\n",
       " '₹449',\n",
       " '₹329',\n",
       " '₹3,124',\n",
       " '₹1,339',\n",
       " '₹995',\n",
       " '₹1,199',\n",
       " '₹1,487']"
      ]
     },
     "execution_count": 37,
     "metadata": {},
     "output_type": "execute_result"
    }
   ],
   "source": [
    "sneaker_price"
   ]
  },
  {
   "cell_type": "code",
   "execution_count": 5,
   "id": "53eb7005",
   "metadata": {},
   "outputs": [],
   "source": [
    "# question 7 "
   ]
  },
  {
   "cell_type": "code",
   "execution_count": 12,
   "id": "d8e261e9",
   "metadata": {},
   "outputs": [],
   "source": [
    "driver.get('http://www.amazon.in/')"
   ]
  },
  {
   "cell_type": "code",
   "execution_count": 13,
   "id": "ad0e9380",
   "metadata": {},
   "outputs": [],
   "source": [
    "product_laptop = driver.find_element(By.XPATH,'/html/body/div[1]/header/div/div[1]/div[2]/div/form/div[2]/div[1]/input')\n",
    "product_laptop.send_keys('laptop')"
   ]
  },
  {
   "cell_type": "code",
   "execution_count": 14,
   "id": "beca7d3f",
   "metadata": {},
   "outputs": [],
   "source": [
    "search = driver.find_element(By.CLASS_NAME,\"nav-right\")\n",
    "search.click()"
   ]
  },
  {
   "cell_type": "code",
   "execution_count": 17,
   "id": "f18f8943",
   "metadata": {},
   "outputs": [],
   "source": [
    "laptop_title = []  \n",
    "counter = 0\n",
    "\n",
    "title=driver.find_elements(By.XPATH,'//h2[@class=\"a-size-mini a-spacing-none a-color-base s-line-clamp-2\"]')\n",
    "for i in title:\n",
    "    name = i.text\n",
    "    laptop_title.append(name)\n",
    "    counter +=1\n",
    "    if counter ==10:\n",
    "         break\n",
    "    \n",
    "    \n",
    "    "
   ]
  },
  {
   "cell_type": "code",
   "execution_count": 20,
   "id": "b20a6fe2",
   "metadata": {},
   "outputs": [],
   "source": [
    "laptop_rating = []    \n",
    "counter = 0\n",
    "\n",
    "rating=driver.find_elements(By.XPATH,'//span[@class=\"a-size-base s-underline-text\"]')\n",
    "for i in rating:\n",
    "    rate = i.text\n",
    "    laptop_rating.append(rate)\n",
    "    counter +=1\n",
    "    if counter ==10:\n",
    "         break\n",
    "    "
   ]
  },
  {
   "cell_type": "code",
   "execution_count": 23,
   "id": "d206b444",
   "metadata": {},
   "outputs": [],
   "source": [
    "laptop_price = []   \n",
    "counter = 0\n",
    "\n",
    "price=driver.find_elements(By.XPATH,'//span[@class=\"a-price\"]')\n",
    "for i in price:\n",
    "    prize = i.text\n",
    "    laptop_price.append(prize)\n",
    "    counter +=1\n",
    "    if counter ==10:\n",
    "         break"
   ]
  },
  {
   "cell_type": "code",
   "execution_count": 25,
   "id": "1bceb075",
   "metadata": {},
   "outputs": [
    {
     "data": {
      "text/plain": [
       "(['Dell 15 Vostro 3510 Laptop, Intel Core i5-1135G7 Proc/16GB DDR4/512GB SSD/Intel UHD Graphic/15.6\" (39.562cm) FHD/Win 11+MSO\\'21/Thin & Light 1.69kg/15 Month McAfee/Spill-Resistant Keyboard/Carbon,7T2YC',\n",
       "  'Dell 15 Vostro 3510 Laptop, Intel Core i3-1115G4, 8GB/1TB + 256GB SSD/15.6\" (39.62cm) FHD with Comfort View/Mobile Connect/Windows 11 + MSO\\'21/15 Month McAfee/Spill-Resistant Keyboard/Carbon/1.69kg',\n",
       "  'ASUS VivoBook 15 (2021), 15.6-inch (39.62 cm) HD, Dual Core Intel Celeron N4020, Thin and Light Laptop (4GB RAM/256GB SSD/Integrated Graphics/Windows 11 Home/Transparent Silver/1.8 Kg), X515MA-BR011W',\n",
       "  'ASUS [SmartChoice] Vivobook 15, Intel Celeron N4020, 15.6\" (39.62 cms) HD, Thin and Light Laptop (8GB/512GB SSD/Integrated Graphics/Windows 11/Office 2021/Fingerprint/Silver/1.8 kg), X515MA-BR024WS',\n",
       "  'MSI Modern 15, Intel 11th Gen. i3-1115G4, 40CM FHD 60Hz Laptop (8GB/512GB NVMe SSD/Windows 11 Home/Intel UHD Graphics/Classic Black/1.7Kg), B11M-063IN',\n",
       "  'HP Laptop 15s, 12th Gen Intel Core i3-1215U, 15.6-inch (39.6 cm), FHD, 8GB DDR4, 1TB SSD, Intel UHD Graphics, Thin & Light, Dual Speakers (Win 11, MSO 2021, Silver, 1.69 kg), fy5005TU',\n",
       "  'HP Laptop 15s, Intel Celeron, 15.6-inch (39.6 cm), HD, 8GB DDR4, 512GB SSD, Intel UHD Graphics, Thin & Light, Dual Speakers, BrightView Display (Win 11, MSO 2021, Silver, 1.65 kg), fq3071TU',\n",
       "  'HP Laptop 15s, 11th Gen Intel Core i5-1155G7, 15.6-inch (39.6 cm), FHD, 16GB DDR4, 512GB SSD, Intel Iris Xe Graphics, Backlit KB, Thin & Light (Win 11, MSO 2021, Silver, 1.69 kg), fr4001TU',\n",
       "  'HP 15s, AMD Ryzen 3 5300U, 15.6 inch(39.6cm) FHD Anti-Glare Laptop(8GB RAM/512 GB SSD/AMD Radeon Graphics/Win 11/MSO/Backlit Keyboard/Dual Speakers) 15s- eq2213AU',\n",
       "  'HP Laptop 15s, 12th Gen Intel Core i3-1215U, 15.6-inch (39.6 cm), FHD, 8GB DDR4, 512GB SSD, Intel UHD Graphics, Backlit KB, Thin & Light, Dual Speakers (Win 11, MSO 2021, Silver, 1.69 kg), fq5007TU'],\n",
       " ['₹50,790',\n",
       "  '₹37,990',\n",
       "  '₹22,990',\n",
       "  '₹26,990',\n",
       "  '₹29,990',\n",
       "  '₹37,990',\n",
       "  '₹70,990',\n",
       "  '₹37,990',\n",
       "  '₹46,990',\n",
       "  ''])"
      ]
     },
     "execution_count": 25,
     "metadata": {},
     "output_type": "execute_result"
    }
   ],
   "source": [
    "laptop_title,laptop_price"
   ]
  },
  {
   "cell_type": "code",
   "execution_count": 4,
   "id": "054a205e",
   "metadata": {},
   "outputs": [],
   "source": [
    "# QUESTION 9 "
   ]
  },
  {
   "cell_type": "code",
   "execution_count": 5,
   "id": "f68626d0",
   "metadata": {},
   "outputs": [],
   "source": [
    "driver.get('http://www.azquotes.com/')"
   ]
  },
  {
   "cell_type": "code",
   "execution_count": 7,
   "id": "70c7296c",
   "metadata": {},
   "outputs": [],
   "source": [
    "quote = []  \n",
    "\n",
    "desc=driver.find_elements(By.XPATH,'//a[@class=\"title\"]')\n",
    "for i in desc:\n",
    "    name = i.text\n",
    "    quote.append(desc)"
   ]
  },
  {
   "cell_type": "code",
   "execution_count": 8,
   "id": "acf2f9ab",
   "metadata": {},
   "outputs": [
    {
     "data": {
      "text/plain": [
       "100"
      ]
     },
     "execution_count": 8,
     "metadata": {},
     "output_type": "execute_result"
    }
   ],
   "source": [
    "len(quote)"
   ]
  },
  {
   "cell_type": "code",
   "execution_count": 9,
   "id": "523a25f8",
   "metadata": {},
   "outputs": [],
   "source": [
    "author_name = []  \n",
    "\n",
    "author=driver.find_elements(By.XPATH,'//div[@class=\"author\"]')\n",
    "for i in author:\n",
    "    author = i.text\n",
    "    author_name.append(author)"
   ]
  },
  {
   "cell_type": "code",
   "execution_count": 10,
   "id": "ba43bccb",
   "metadata": {},
   "outputs": [
    {
     "data": {
      "text/plain": [
       "['Michael Porter',\n",
       " 'Golda Meir',\n",
       " 'Theodore Roosevelt',\n",
       " 'Nelson Mandela',\n",
       " 'Erma Bombeck',\n",
       " 'John Wooden',\n",
       " 'Albert Einstein',\n",
       " 'Frank Zappa',\n",
       " 'William Faulkner',\n",
       " 'Will Rogers',\n",
       " 'Jimmy Carter',\n",
       " 'Albert Einstein',\n",
       " 'Abraham Lincoln',\n",
       " 'Steven Weinberg',\n",
       " 'Franklin D. Roosevelt',\n",
       " 'Albert Einstein',\n",
       " 'Maya Angelou',\n",
       " 'Mark Twain',\n",
       " 'Theodore Roosevelt',\n",
       " 'Michael Jackson',\n",
       " 'Martin Luther King, Jr.',\n",
       " 'C. S. Lewis',\n",
       " 'Theodore Roosevelt',\n",
       " 'Mark Twain',\n",
       " 'Abraham Lincoln',\n",
       " 'Ruth Graham',\n",
       " 'C. S. Lewis',\n",
       " 'Groucho Marx',\n",
       " 'John Lennon',\n",
       " 'Barbara Bush',\n",
       " 'Albert Einstein',\n",
       " 'Francis Chan',\n",
       " 'Henry Ford',\n",
       " 'Victor Hugo',\n",
       " 'Abu Bakr',\n",
       " 'Zig Ziglar',\n",
       " 'Winston Churchill',\n",
       " 'Zig Ziglar',\n",
       " 'John F. Kennedy',\n",
       " 'Dwight D. Eisenhower',\n",
       " 'Winston Churchill',\n",
       " 'Albert Einstein',\n",
       " 'Willie Nelson',\n",
       " 'Johnny Cash',\n",
       " 'Marie Curie',\n",
       " 'Maya Angelou',\n",
       " 'Amy Bloom',\n",
       " 'Zig Ziglar',\n",
       " 'John Lennon',\n",
       " 'Thomas Sowell',\n",
       " 'Max Lucado',\n",
       " 'Martin Luther King, Jr.',\n",
       " 'Thomas Sowell',\n",
       " 'Salma Hayek',\n",
       " 'Martin Luther King, Jr.',\n",
       " 'Douglas MacArthur',\n",
       " 'Douglas MacArthur',\n",
       " 'George S. Patton',\n",
       " 'Corrie Ten Boom',\n",
       " 'Jim Courier',\n",
       " 'Zig Ziglar',\n",
       " 'Edgar Allan Poe',\n",
       " 'Zig Ziglar',\n",
       " 'Stephen Covey',\n",
       " 'Pablo Neruda',\n",
       " 'Joe Frazier',\n",
       " 'Bill Cosby',\n",
       " 'Lewis Grizzard',\n",
       " 'Les Brown',\n",
       " 'Meister Eckhart',\n",
       " 'Muhammad Ali',\n",
       " 'John C. Maxwell',\n",
       " 'Thomas A. Edison',\n",
       " 'Neil Armstrong',\n",
       " 'Rose Kennedy',\n",
       " 'Martin Luther',\n",
       " 'Ronald Reagan',\n",
       " 'Andrew Murray',\n",
       " 'Arianna Huffington',\n",
       " 'Anne Frank',\n",
       " 'Corrie Ten Boom',\n",
       " 'Nelson Mandela',\n",
       " 'Robin Williams',\n",
       " 'Walt Disney',\n",
       " 'John F. Kennedy',\n",
       " 'Mark Twain',\n",
       " 'John Stott',\n",
       " 'Wayne Dyer',\n",
       " 'Steve Jobs',\n",
       " 'Maya Angelou',\n",
       " 'Satchel Paige',\n",
       " 'Mwai Kibaki',\n",
       " 'Roald Dahl',\n",
       " 'Robert H. Schuller',\n",
       " 'Bill Vaughan',\n",
       " 'Hunter S. Thompson',\n",
       " 'Corrie Ten Boom',\n",
       " 'Dalai Lama',\n",
       " 'Mother Teresa',\n",
       " 'Norman Vincent Peale']"
      ]
     },
     "execution_count": 10,
     "metadata": {},
     "output_type": "execute_result"
    }
   ],
   "source": [
    "author_name"
   ]
  },
  {
   "cell_type": "code",
   "execution_count": 11,
   "id": "05cfa0fa",
   "metadata": {},
   "outputs": [],
   "source": [
    "quote_type = []  \n",
    "\n",
    "type=driver.find_elements(By.XPATH,'//div[@class=\"tags\"]')\n",
    "for i in type:\n",
    "    type = i.text\n",
    "    quote_type.append(type)"
   ]
  },
  {
   "cell_type": "code",
   "execution_count": 12,
   "id": "3b0f5250",
   "metadata": {},
   "outputs": [],
   "source": [
    "# QUESTION 9 "
   ]
  },
  {
   "cell_type": "code",
   "execution_count": 13,
   "id": "0d5a5675",
   "metadata": {},
   "outputs": [],
   "source": [
    "driver.get('http://www.jagranjosh.com/')"
   ]
  },
  {
   "cell_type": "code",
   "execution_count": 16,
   "id": "2f4c1b5d",
   "metadata": {},
   "outputs": [],
   "source": [
    "pm_name = []  \n",
    "\n",
    "pmname=driver.find_elements(By.XPATH,'/html/body/div[1]/main/div[1]/div[1]/article/div[3]/div[9]/p[4]')\n",
    "for i in pmname:\n",
    "    pmname = i.text\n",
    "    pm_name.append(pmname)\n",
    "    \n",
    "    # can't able to find the associated class for scraping may be some other method will do this "
   ]
  },
  {
   "cell_type": "code",
   "execution_count": 18,
   "id": "10105353",
   "metadata": {},
   "outputs": [],
   "source": [
    "# QUESTION 10 "
   ]
  },
  {
   "cell_type": "code",
   "execution_count": 7,
   "id": "88f4e903",
   "metadata": {},
   "outputs": [],
   "source": [
    "driver.get('http://www.motor1.com/')"
   ]
  },
  {
   "cell_type": "code",
   "execution_count": 8,
   "id": "517c6d8d",
   "metadata": {},
   "outputs": [],
   "source": [
    "search_title = driver.find_element(By.XPATH,'/html/body/div[10]/div[2]/div/div/div[3]/div/div/div/form/input')\n",
    "search_title.send_keys('50 most expensive car')"
   ]
  },
  {
   "cell_type": "code",
   "execution_count": 10,
   "id": "798a7b95",
   "metadata": {},
   "outputs": [],
   "source": [
    "search = driver.find_element(By.XPATH,'/html/body/div[10]/div[2]/div/div/div[3]/div/div/div/form/button[1]')\n",
    "search.click()"
   ]
  },
  {
   "cell_type": "code",
   "execution_count": 12,
   "id": "1539dd7f",
   "metadata": {},
   "outputs": [],
   "source": [
    "car_name = []  \n",
    "\n",
    "cname=driver.find_elements(By.XPATH,'//h3[@class=\"subheader\"]')\n",
    "for i in cname:\n",
    "    cname = i.text\n",
    "    car_name.append(cname)"
   ]
  },
  {
   "cell_type": "code",
   "execution_count": 26,
   "id": "f99f2733",
   "metadata": {},
   "outputs": [],
   "source": [
    "car_price = []  \n",
    "\n",
    "cprice=driver.find_elements(By.XPATH,'//div[@class=\"article-content\"]/p')\n",
    "for i in cprice:\n",
    "    cprice = i.text\n",
    "    car_price.append(cname)  # can't able to fetch car price data "
   ]
  },
  {
   "cell_type": "code",
   "execution_count": 28,
   "id": "69317eb9",
   "metadata": {},
   "outputs": [
    {
     "data": {
      "text/plain": [
       "[]"
      ]
     },
     "execution_count": 28,
     "metadata": {},
     "output_type": "execute_result"
    }
   ],
   "source": [
    "car_price\n"
   ]
  },
  {
   "cell_type": "code",
   "execution_count": 25,
   "id": "acd7977f",
   "metadata": {},
   "outputs": [
    {
     "ename": "ValueError",
     "evalue": "All arrays must be of the same length",
     "output_type": "error",
     "traceback": [
      "\u001b[1;31m---------------------------------------------------------------------------\u001b[0m",
      "\u001b[1;31mValueError\u001b[0m                                Traceback (most recent call last)",
      "Cell \u001b[1;32mIn[25], line 1\u001b[0m\n\u001b[1;32m----> 1\u001b[0m Namedata \u001b[38;5;241m=\u001b[39m pd\u001b[38;5;241m.\u001b[39mDataFrame({\u001b[38;5;124m\"\u001b[39m\u001b[38;5;124mName \u001b[39m\u001b[38;5;124m\"\u001b[39m: car_name,\u001b[38;5;124m\"\u001b[39m\u001b[38;5;124mprice\u001b[39m\u001b[38;5;124m\"\u001b[39m:car_price})\n",
      "File \u001b[1;32m~\\anaconda3\\Lib\\site-packages\\pandas\\core\\frame.py:709\u001b[0m, in \u001b[0;36mDataFrame.__init__\u001b[1;34m(self, data, index, columns, dtype, copy)\u001b[0m\n\u001b[0;32m    703\u001b[0m     mgr \u001b[38;5;241m=\u001b[39m \u001b[38;5;28mself\u001b[39m\u001b[38;5;241m.\u001b[39m_init_mgr(\n\u001b[0;32m    704\u001b[0m         data, axes\u001b[38;5;241m=\u001b[39m{\u001b[38;5;124m\"\u001b[39m\u001b[38;5;124mindex\u001b[39m\u001b[38;5;124m\"\u001b[39m: index, \u001b[38;5;124m\"\u001b[39m\u001b[38;5;124mcolumns\u001b[39m\u001b[38;5;124m\"\u001b[39m: columns}, dtype\u001b[38;5;241m=\u001b[39mdtype, copy\u001b[38;5;241m=\u001b[39mcopy\n\u001b[0;32m    705\u001b[0m     )\n\u001b[0;32m    707\u001b[0m \u001b[38;5;28;01melif\u001b[39;00m \u001b[38;5;28misinstance\u001b[39m(data, \u001b[38;5;28mdict\u001b[39m):\n\u001b[0;32m    708\u001b[0m     \u001b[38;5;66;03m# GH#38939 de facto copy defaults to False only in non-dict cases\u001b[39;00m\n\u001b[1;32m--> 709\u001b[0m     mgr \u001b[38;5;241m=\u001b[39m dict_to_mgr(data, index, columns, dtype\u001b[38;5;241m=\u001b[39mdtype, copy\u001b[38;5;241m=\u001b[39mcopy, typ\u001b[38;5;241m=\u001b[39mmanager)\n\u001b[0;32m    710\u001b[0m \u001b[38;5;28;01melif\u001b[39;00m \u001b[38;5;28misinstance\u001b[39m(data, ma\u001b[38;5;241m.\u001b[39mMaskedArray):\n\u001b[0;32m    711\u001b[0m     \u001b[38;5;28;01mfrom\u001b[39;00m \u001b[38;5;21;01mnumpy\u001b[39;00m\u001b[38;5;21;01m.\u001b[39;00m\u001b[38;5;21;01mma\u001b[39;00m \u001b[38;5;28;01mimport\u001b[39;00m mrecords\n",
      "File \u001b[1;32m~\\anaconda3\\Lib\\site-packages\\pandas\\core\\internals\\construction.py:481\u001b[0m, in \u001b[0;36mdict_to_mgr\u001b[1;34m(data, index, columns, dtype, typ, copy)\u001b[0m\n\u001b[0;32m    477\u001b[0m     \u001b[38;5;28;01melse\u001b[39;00m:\n\u001b[0;32m    478\u001b[0m         \u001b[38;5;66;03m# dtype check to exclude e.g. range objects, scalars\u001b[39;00m\n\u001b[0;32m    479\u001b[0m         arrays \u001b[38;5;241m=\u001b[39m [x\u001b[38;5;241m.\u001b[39mcopy() \u001b[38;5;28;01mif\u001b[39;00m \u001b[38;5;28mhasattr\u001b[39m(x, \u001b[38;5;124m\"\u001b[39m\u001b[38;5;124mdtype\u001b[39m\u001b[38;5;124m\"\u001b[39m) \u001b[38;5;28;01melse\u001b[39;00m x \u001b[38;5;28;01mfor\u001b[39;00m x \u001b[38;5;129;01min\u001b[39;00m arrays]\n\u001b[1;32m--> 481\u001b[0m \u001b[38;5;28;01mreturn\u001b[39;00m arrays_to_mgr(arrays, columns, index, dtype\u001b[38;5;241m=\u001b[39mdtype, typ\u001b[38;5;241m=\u001b[39mtyp, consolidate\u001b[38;5;241m=\u001b[39mcopy)\n",
      "File \u001b[1;32m~\\anaconda3\\Lib\\site-packages\\pandas\\core\\internals\\construction.py:115\u001b[0m, in \u001b[0;36marrays_to_mgr\u001b[1;34m(arrays, columns, index, dtype, verify_integrity, typ, consolidate)\u001b[0m\n\u001b[0;32m    112\u001b[0m \u001b[38;5;28;01mif\u001b[39;00m verify_integrity:\n\u001b[0;32m    113\u001b[0m     \u001b[38;5;66;03m# figure out the index, if necessary\u001b[39;00m\n\u001b[0;32m    114\u001b[0m     \u001b[38;5;28;01mif\u001b[39;00m index \u001b[38;5;129;01mis\u001b[39;00m \u001b[38;5;28;01mNone\u001b[39;00m:\n\u001b[1;32m--> 115\u001b[0m         index \u001b[38;5;241m=\u001b[39m _extract_index(arrays)\n\u001b[0;32m    116\u001b[0m     \u001b[38;5;28;01melse\u001b[39;00m:\n\u001b[0;32m    117\u001b[0m         index \u001b[38;5;241m=\u001b[39m ensure_index(index)\n",
      "File \u001b[1;32m~\\anaconda3\\Lib\\site-packages\\pandas\\core\\internals\\construction.py:655\u001b[0m, in \u001b[0;36m_extract_index\u001b[1;34m(data)\u001b[0m\n\u001b[0;32m    653\u001b[0m lengths \u001b[38;5;241m=\u001b[39m \u001b[38;5;28mlist\u001b[39m(\u001b[38;5;28mset\u001b[39m(raw_lengths))\n\u001b[0;32m    654\u001b[0m \u001b[38;5;28;01mif\u001b[39;00m \u001b[38;5;28mlen\u001b[39m(lengths) \u001b[38;5;241m>\u001b[39m \u001b[38;5;241m1\u001b[39m:\n\u001b[1;32m--> 655\u001b[0m     \u001b[38;5;28;01mraise\u001b[39;00m \u001b[38;5;167;01mValueError\u001b[39;00m(\u001b[38;5;124m\"\u001b[39m\u001b[38;5;124mAll arrays must be of the same length\u001b[39m\u001b[38;5;124m\"\u001b[39m)\n\u001b[0;32m    657\u001b[0m \u001b[38;5;28;01mif\u001b[39;00m have_dicts:\n\u001b[0;32m    658\u001b[0m     \u001b[38;5;28;01mraise\u001b[39;00m \u001b[38;5;167;01mValueError\u001b[39;00m(\n\u001b[0;32m    659\u001b[0m         \u001b[38;5;124m\"\u001b[39m\u001b[38;5;124mMixing dicts with non-Series may lead to ambiguous ordering.\u001b[39m\u001b[38;5;124m\"\u001b[39m\n\u001b[0;32m    660\u001b[0m     )\n",
      "\u001b[1;31mValueError\u001b[0m: All arrays must be of the same length"
     ]
    }
   ],
   "source": [
    "Namedata = pd.DataFrame({\"Name \": car_name,\"price\":car_price})"
   ]
  },
  {
   "cell_type": "code",
   "execution_count": null,
   "id": "b9c66d21",
   "metadata": {},
   "outputs": [],
   "source": []
  }
 ],
 "metadata": {
  "kernelspec": {
   "display_name": "Python 3 (ipykernel)",
   "language": "python",
   "name": "python3"
  },
  "language_info": {
   "codemirror_mode": {
    "name": "ipython",
    "version": 3
   },
   "file_extension": ".py",
   "mimetype": "text/x-python",
   "name": "python",
   "nbconvert_exporter": "python",
   "pygments_lexer": "ipython3",
   "version": "3.11.5"
  }
 },
 "nbformat": 4,
 "nbformat_minor": 5
}
